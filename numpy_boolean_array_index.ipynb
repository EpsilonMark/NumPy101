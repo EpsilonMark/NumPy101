{
 "metadata": {
  "language_info": {
   "codemirror_mode": {
    "name": "ipython",
    "version": 3
   },
   "file_extension": ".py",
   "mimetype": "text/x-python",
   "name": "python",
   "nbconvert_exporter": "python",
   "pygments_lexer": "ipython3",
   "version": "3.8.8"
  },
  "orig_nbformat": 4,
  "kernelspec": {
   "name": "python3",
   "display_name": "Python 3.8.8 64-bit ('base': conda)"
  },
  "interpreter": {
   "hash": "dca0ade3e726a953b501b15e8e990130d2b7799f14cfd9f4271676035ebe5511"
  }
 },
 "nbformat": 4,
 "nbformat_minor": 2,
 "cells": [
  {
   "cell_type": "code",
   "execution_count": 1,
   "metadata": {},
   "outputs": [],
   "source": [
    "import numpy as np "
   ]
  },
  {
   "cell_type": "code",
   "execution_count": 5,
   "metadata": {},
   "outputs": [
    {
     "output_type": "stream",
     "name": "stdout",
     "text": [
      "[45 13 88  3 50 78 87  1 38 98  9 56 22 66 68 20 66 69 18 68]\n"
     ]
    }
   ],
   "source": [
    "a = np.random.randint(0,100,20)\n",
    "print(a)"
   ]
  },
  {
   "cell_type": "code",
   "execution_count": 3,
   "metadata": {},
   "outputs": [
    {
     "output_type": "execute_result",
     "data": {
      "text/plain": [
       "array([False, False, False, False,  True, False, False, False, False,\n",
       "        True,  True, False,  True,  True, False,  True,  True,  True,\n",
       "       False,  True])"
      ]
     },
     "metadata": {},
     "execution_count": 3
    }
   ],
   "source": [
    "a % 2 == 0."
   ]
  },
  {
   "cell_type": "code",
   "execution_count": 7,
   "metadata": {},
   "outputs": [
    {
     "output_type": "execute_result",
     "data": {
      "text/plain": [
       "array([88, 50, 78, 38, 98, 56, 22, 66, 68, 20, 66, 18, 68])"
      ]
     },
     "metadata": {},
     "execution_count": 7
    }
   ],
   "source": [
    "a[ a % 2 == 0]"
   ]
  },
  {
   "cell_type": "code",
   "execution_count": 10,
   "metadata": {},
   "outputs": [
    {
     "output_type": "execute_result",
     "data": {
      "text/plain": [
       "array([88, 78, 98, 56, 66, 68, 66, 68])"
      ]
     },
     "metadata": {},
     "execution_count": 10
    }
   ],
   "source": [
    "a[ (a%2 == 0 ) & (a>50)]"
   ]
  },
  {
   "cell_type": "code",
   "execution_count": 11,
   "metadata": {},
   "outputs": [
    {
     "output_type": "execute_result",
     "data": {
      "text/plain": [
       "array([88, 50, 78, 87, 38, 98, 56, 22, 66, 68, 20, 66, 69, 18, 68])"
      ]
     },
     "metadata": {},
     "execution_count": 11
    }
   ],
   "source": [
    "a[(a % 2 == 0 )  | (a>50)]"
   ]
  },
  {
   "cell_type": "code",
   "execution_count": 15,
   "metadata": {},
   "outputs": [
    {
     "output_type": "execute_result",
     "data": {
      "text/plain": [
       "array([345, 454, 597, 933, 863, 839, 856, 866, 920, 243, 122, 655, 591,\n",
       "       700, 124,  81, 542, 724, 648,  19, 776, 670, 990, 654, 425, 736,\n",
       "       463, 627, 227, 393, 167, 618, 805, 998, 563, 552, 237, 978, 700,\n",
       "        37, 882, 152, 787, 481, 229, 314, 248, 561, 515, 424, 542, 822,\n",
       "       547, 497, 566, 928, 572, 511, 549, 683, 675, 598, 819, 592, 933,\n",
       "        59, 958, 243, 472, 646, 162, 519, 734, 686, 948, 105, 617, 958,\n",
       "       674, 268, 132,  64,  44, 256, 271, 630, 338, 608, 337, 604, 607,\n",
       "       190, 806,  47, 374, 120, 755, 558, 843, 748])"
      ]
     },
     "metadata": {},
     "execution_count": 15
    }
   ],
   "source": [
    "p = np.random.randint(1,999,100)\n",
    "p"
   ]
  },
  {
   "cell_type": "code",
   "execution_count": 13,
   "metadata": {},
   "outputs": [
    {
     "output_type": "execute_result",
     "data": {
      "text/plain": [
       "array([False, False, False, False,  True, False, False, False, False,\n",
       "       False, False, False, False, False, False, False, False, False,\n",
       "       False, False, False,  True, False, False, False, False, False,\n",
       "       False, False, False, False, False, False, False, False, False,\n",
       "       False, False, False, False, False, False, False, False,  True,\n",
       "       False,  True, False, False, False, False, False, False, False,\n",
       "       False, False, False, False, False, False, False, False, False,\n",
       "       False, False, False, False, False, False, False, False, False,\n",
       "       False, False, False, False, False, False, False,  True, False,\n",
       "       False, False, False, False, False, False, False, False,  True,\n",
       "       False, False, False, False, False, False, False, False, False,\n",
       "       False])"
      ]
     },
     "metadata": {},
     "execution_count": 13
    }
   ],
   "source": [
    "p % 10 == 9 #หาเลขที่ลงท้ายด้วย. 9"
   ]
  },
  {
   "cell_type": "code",
   "execution_count": 16,
   "metadata": {},
   "outputs": [
    {
     "output_type": "execute_result",
     "data": {
      "text/plain": [
       "array([839,  19, 229, 549, 819,  59, 519])"
      ]
     },
     "metadata": {},
     "execution_count": 16
    }
   ],
   "source": [
    "p[ p % 10 == 9 ]"
   ]
  },
  {
   "cell_type": "code",
   "execution_count": 17,
   "metadata": {},
   "outputs": [
    {
     "output_type": "execute_result",
     "data": {
      "text/plain": [
       "(array([ 5, 19, 44, 58, 62, 65, 71]),)"
      ]
     },
     "metadata": {},
     "execution_count": 17
    }
   ],
   "source": [
    "np.where(p % 10 == 9)"
   ]
  },
  {
   "cell_type": "code",
   "execution_count": 18,
   "metadata": {},
   "outputs": [
    {
     "output_type": "stream",
     "name": "stdout",
     "text": [
      "Hello world\n"
     ]
    }
   ],
   "source": [
    "print('Hello world')"
   ]
  },
  {
   "cell_type": "code",
   "execution_count": null,
   "metadata": {},
   "outputs": [],
   "source": []
  }
 ]
}